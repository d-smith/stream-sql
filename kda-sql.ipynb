{
 "cells": [
  {
   "cell_type": "markdown",
   "id": "abb5766f",
   "metadata": {},
   "source": [
    "## Kinesis Data Analytics for SQL Sample\n",
    "\n"
   ]
  },
  {
   "cell_type": "code",
   "execution_count": null,
   "id": "9889cfd0",
   "metadata": {},
   "outputs": [],
   "source": [
    "import boto3\n",
    "\n",
    "kda_client = boto3.client('kinesisanalyticsv2')\n",
    "kinesis = boto3.client('kinesis')\n",
    "iam = boto3.client('iam')\n",
    "kda2 = boto3.client('kinesisanalyticsv2')"
   ]
  },
  {
   "cell_type": "markdown",
   "id": "169ff1dc",
   "metadata": {},
   "source": [
    "### Input and Output Streams"
   ]
  },
  {
   "cell_type": "code",
   "execution_count": null,
   "id": "aa4d2a6c",
   "metadata": {},
   "outputs": [],
   "source": [
    "cis = kinesis.create_stream(\n",
    "    StreamName='ExampleInputStream',\n",
    "    ShardCount=1\n",
    ")\n",
    "\n",
    "print(cis)"
   ]
  },
  {
   "cell_type": "code",
   "execution_count": null,
   "id": "1a424ce7",
   "metadata": {},
   "outputs": [],
   "source": [
    "cos = kinesis.create_stream(\n",
    "    StreamName='ExampleOutputStream',\n",
    "    ShardCount=1\n",
    ")\n",
    "\n",
    "print(cos)"
   ]
  },
  {
   "cell_type": "markdown",
   "id": "17d0d9cf",
   "metadata": {},
   "source": [
    "### IAM Role and Policy\n",
    "\n",
    "\n"
   ]
  },
  {
   "cell_type": "code",
   "execution_count": null,
   "id": "378deedb",
   "metadata": {},
   "outputs": [],
   "source": [
    "assume_role_policy_document=\"\"\"{\n",
    "    \"Version\": \"2012-10-17\",\n",
    "    \"Statement\": [\n",
    "        {\n",
    "            \"Effect\": \"Allow\",\n",
    "            \"Principal\": {\n",
    "                \"Service\": \"kinesisanalytics.amazonaws.com\"\n",
    "            },\n",
    "            \"Action\": \"sts:AssumeRole\"\n",
    "        }\n",
    "    ]\n",
    "}\n",
    "\"\"\""
   ]
  },
  {
   "cell_type": "code",
   "execution_count": null,
   "id": "aeb7fa12",
   "metadata": {},
   "outputs": [],
   "source": [
    "cr = iam.create_role(\n",
    "    RoleName='kda-sample-role',\n",
    "    Path='/service-role/',\n",
    "    AssumeRolePolicyDocument=assume_role_policy_document\n",
    ")\n",
    "\n",
    "print(cr)"
   ]
  },
  {
   "cell_type": "code",
   "execution_count": null,
   "id": "b28ae89e",
   "metadata": {},
   "outputs": [],
   "source": [
    "import os\n",
    "account_no = os.environ['PRODUCER_ACCOUNT_NO']"
   ]
  },
  {
   "cell_type": "code",
   "execution_count": null,
   "id": "6454dfab",
   "metadata": {},
   "outputs": [],
   "source": [
    "policy_document=\"\"\"{\n",
    "            \"Version\": \"2012-10-17\",\n",
    "            \"Statement\": [\n",
    "                {\n",
    "                    \"Sid\": \"ReadCode\",\n",
    "                    \"Effect\": \"Allow\",\n",
    "                    \"Action\": [\n",
    "                        \"s3:GetObject\",\n",
    "                        \"s3:GetObjectVersion\"\n",
    "                    ],\n",
    "                    \"Resource\": [\n",
    "                        \"arn:aws:s3:::dskdaj-getting-started/*\"\n",
    "                    ]\n",
    "                },\n",
    "                {\n",
    "                    \"Sid\": \"ListCloudwatchLogGroups\",\n",
    "                    \"Effect\": \"Allow\",\n",
    "                    \"Action\": [\n",
    "                        \"logs:DescribeLogGroups\"\n",
    "                    ],\n",
    "                    \"Resource\": [\n",
    "                        \"arn:aws:logs:us-east-1:\"\"\" + account_no + \"\"\":log-group:*\"\n",
    "                    ]\n",
    "                },\n",
    "                {\n",
    "                    \"Sid\": \"ListCloudwatchLogStreams\",\n",
    "                    \"Effect\": \"Allow\",\n",
    "                    \"Action\": [\n",
    "                        \"logs:DescribeLogStreams\"\n",
    "                    ],\n",
    "                    \"Resource\": [\n",
    "                        \"arn:aws:logs:us-east-1:\"\"\" + account_no + \"\"\":log-group:/aws/kinesis-analytics/sample:log-stream:*\"\n",
    "                    ]\n",
    "                },\n",
    "                {\n",
    "                    \"Sid\": \"PutCloudwatchLogs\",\n",
    "                    \"Effect\": \"Allow\",\n",
    "                    \"Action\": [\n",
    "                        \"logs:PutLogEvents\"\n",
    "                    ],\n",
    "                    \"Resource\": [\n",
    "                        \"arn:aws:logs:us-east-1:\"\"\" + account_no + \"\"\":log-group:/aws/kinesis-analytics/sample:log-stream:kinesis-analytics-log-stream\"\n",
    "                    ]\n",
    "                },\n",
    "                {\n",
    "                \n",
    "                    \"Sid\": \"ReadInputStream\",\n",
    "                    \"Effect\": \"Allow\",\n",
    "                    \"Action\": [\n",
    "                        \"kinesis:*\"\n",
    "                    ],\n",
    "                    \"Resource\": [\n",
    "                        \"arn:aws:kinesis:us-east-1:\"\"\" + account_no + \"\"\":stream/ExampleInputStream\"\n",
    "                    ]\n",
    "                },\n",
    "                {\n",
    "                    \"Sid\": \"WriteOutputStream\",\n",
    "                    \"Effect\": \"Allow\",\n",
    "                    \"Action\": \"kinesis:*\",\n",
    "                    \"Resource\": \"arn:aws:kinesis:us-east-1:\"\"\" + account_no + \"\"\":stream/ExampleOutputStream\"\n",
    "                }\n",
    "            ]\n",
    "}\"\"\""
   ]
  },
  {
   "cell_type": "code",
   "execution_count": null,
   "id": "444eabd6",
   "metadata": {},
   "outputs": [],
   "source": [
    "cp = iam.create_policy(\n",
    "    PolicyName='kda-sample-app',\n",
    "    Path='/service-role/',\n",
    "    PolicyDocument=policy_document\n",
    ")\n",
    "\n",
    "print(cp)"
   ]
  },
  {
   "cell_type": "code",
   "execution_count": null,
   "id": "6e537f67",
   "metadata": {},
   "outputs": [],
   "source": [
    "ap = iam.attach_role_policy(\n",
    "    RoleName='kda-sample-role',\n",
    "    PolicyArn=\"arn:aws:iam::{}:policy/service-role/kda-sample-app\".format(account_no)\n",
    ")"
   ]
  },
  {
   "cell_type": "markdown",
   "id": "6464aaf6",
   "metadata": {},
   "source": [
    "### Application Definition"
   ]
  },
  {
   "cell_type": "code",
   "execution_count": null,
   "id": "dc54f649",
   "metadata": {},
   "outputs": [],
   "source": [
    "app_code=\"\"\"CREATE OR REPLACE STREAM \"DESTINATION_SQL_STREAM\" (event_count integer);\n",
    "CREATE OR REPLACE  PUMP \"STREAM_PUMP\" AS INSERT INTO \"DESTINATION_SQL_STREAM\"\n",
    "SELECT STREAM COUNT(*) AS \"event_count\"\n",
    "FROM \"SOURCE_SQL_STREAM_001\"\n",
    "-- Uses a 10-second tumbling time window\n",
    "GROUP BY FLOOR((\"SOURCE_SQL_STREAM_001\".ROWTIME - TIMESTAMP '1970-01-01 00:00:00') SECOND / 10 TO SECOND);\n",
    "\"\"\""
   ]
  },
  {
   "cell_type": "code",
   "execution_count": null,
   "id": "f63298e5",
   "metadata": {},
   "outputs": [],
   "source": [
    "print(app_code)"
   ]
  },
  {
   "cell_type": "code",
   "execution_count": null,
   "id": "61c59938",
   "metadata": {},
   "outputs": [],
   "source": [
    "kca = kda2.create_application(\n",
    "    ApplicationName='sample',\n",
    "    ApplicationDescription='Sample getting started application',\n",
    "    RuntimeEnvironment='SQL-1_0',\n",
    "    ServiceExecutionRole='arn:aws:iam::{}:role/service-role/kda-sample-role'.format(account_no),\n",
    "    ApplicationConfiguration={\n",
    "        'ApplicationCodeConfiguration': {\n",
    "            'CodeContent': {\n",
    "                'TextContent': app_code\n",
    "            },\n",
    "            'CodeContentType': 'PLAINTEXT'\n",
    "        },\n",
    "        'SqlApplicationConfiguration': {\n",
    "            'Inputs': [\n",
    "                {\n",
    "                    'NamePrefix': 'SOURCE_SQL_STREAM',\n",
    "                    'KinesisStreamsInput': {\n",
    "                        'ResourceARN': \"arn:aws:kinesis:us-east-1:\" + account_no + \":stream/ExampleInputStream\"\n",
    "                    },\n",
    "                    \n",
    "                    \"InputSchema\":{\n",
    "                     \"RecordFormat\":{\n",
    "                        \"RecordFormatType\":\"JSON\",\n",
    "                        \"MappingParameters\":{\n",
    "                           \"JSONMappingParameters\":{\n",
    "                              \"RecordRowPath\":\"$\"\n",
    "                           }\n",
    "                        }\n",
    "                     },\n",
    "                     \"RecordEncoding\":\"UTF-8\",\n",
    "                     \"RecordColumns\":[\n",
    "                        {\n",
    "                           \"Name\":\"specversion\",\n",
    "                           \"Mapping\":\"$.specversion\",\n",
    "                           \"SqlType\":\"DECIMAL(1,1)\"\n",
    "                        },\n",
    "                        {\n",
    "                           \"Name\":\"type\",\n",
    "                           \"Mapping\":\"$.type\",\n",
    "                           \"SqlType\":\"VARCHAR(4)\"\n",
    "                        },\n",
    "                        {\n",
    "                           \"Name\":\"source\",\n",
    "                           \"Mapping\":\"$.source\",\n",
    "                           \"SqlType\":\"VARCHAR(16)\"\n",
    "                        },\n",
    "                        {\n",
    "                           \"Name\":\"subject\",\n",
    "                           \"Mapping\":\"$.subject\",\n",
    "                           \"SqlType\":\"VARCHAR(16)\"\n",
    "                        },\n",
    "                        {\n",
    "                           \"Name\":\"id\",\n",
    "                           \"Mapping\":\"$.id\",\n",
    "                           \"SqlType\":\"VARCHAR(64)\"\n",
    "                        },\n",
    "                        {\n",
    "                           \"Name\":\"COL_time\",\n",
    "                           \"Mapping\":\"$.time\",\n",
    "                           \"SqlType\":\"VARCHAR(32)\"\n",
    "                        },\n",
    "                        {\n",
    "                           \"Name\":\"datacontenttype\",\n",
    "                           \"Mapping\":\"$.datacontenttype\",\n",
    "                           \"SqlType\":\"VARCHAR(16)\"\n",
    "                        },\n",
    "                        {\n",
    "                           \"Name\":\"EVENT_TIME\",\n",
    "                           \"Mapping\":\"$.data.EVENT_TIME\",\n",
    "                           \"SqlType\":\"VARCHAR(32)\"\n",
    "                        },\n",
    "                        {\n",
    "                           \"Name\":\"TICKER\",\n",
    "                           \"Mapping\":\"$.data.TICKER\",\n",
    "                           \"SqlType\":\"VARCHAR(4)\"\n",
    "                        },\n",
    "                        {\n",
    "                           \"Name\":\"PRICE\",\n",
    "                           \"Mapping\":\"$.data.PRICE\",\n",
    "                           \"SqlType\":\"REAL\"\n",
    "                        }\n",
    "                     ]\n",
    "                  },\n",
    "                  \"InputParallelism\":{\n",
    "                     \"Count\":1\n",
    "                  }\n",
    "                },\n",
    "            ],\n",
    "            'Outputs': [\n",
    "                {\n",
    "                    \"Name\":\"DESTINATION_SQL_STREAM\",\n",
    "                  \"KinesisStreamsOutput\":{\n",
    "                     \"ResourceARN\":\"arn:aws:kinesis:us-east-1:\" + account_no + \":stream/ExampleOutputStream\"\n",
    "                  },\n",
    "                  \"DestinationSchema\":{\n",
    "                     \"RecordFormatType\":\"JSON\"\n",
    "                  }\n",
    "                },\n",
    "            ]\n",
    "        }\n",
    "        \n",
    "    },\n",
    "    CloudWatchLoggingOptions=[\n",
    "        {\n",
    "            \"LogStreamARN\":\"arn:aws:logs:us-east-1:{}:log-group:/aws/kinesis-analytics/sample:log-stream:kinesis-analytics-log-stream\".format(account_no)\n",
    "        }\n",
    "    ]\n",
    "    \n",
    ")\n",
    "print(kca)"
   ]
  },
  {
   "cell_type": "code",
   "execution_count": null,
   "id": "1e146ceb",
   "metadata": {},
   "outputs": [],
   "source": [
    "ad = kda2.describe_application(\n",
    "    ApplicationName='sample'\n",
    ")\n",
    "\n",
    "input_id = ad['ApplicationDetail']['ApplicationConfigurationDescription']['SqlApplicationConfigurationDescription']['InputDescriptions'][0]['InputId']\n",
    "print(input_id)"
   ]
  },
  {
   "cell_type": "code",
   "execution_count": null,
   "id": "ef16d1ae",
   "metadata": {},
   "outputs": [],
   "source": [
    "sao = kda2.start_application(\n",
    "    ApplicationName='sample',\n",
    "    RunConfiguration={\n",
    "        'SqlRunConfigurations': [\n",
    "            {\n",
    "                'InputId': input_id,\n",
    "                'InputStartingPositionConfiguration': {\n",
    "                    'InputStartingPosition': 'TRIM_HORIZON'\n",
    "                }\n",
    "            },\n",
    "        ],\n",
    "    } \n",
    ")\n",
    "print(sao)"
   ]
  },
  {
   "cell_type": "code",
   "execution_count": null,
   "id": "22fc5bb7",
   "metadata": {},
   "outputs": [],
   "source": [
    "# List applications and see their states...\n",
    "kda2.list_applications()"
   ]
  },
  {
   "cell_type": "markdown",
   "id": "9e26e988",
   "metadata": {},
   "source": [
    "### Input Generator"
   ]
  },
  {
   "cell_type": "code",
   "execution_count": null,
   "id": "4bde4a99",
   "metadata": {},
   "outputs": [],
   "source": [
    "import datetime\n",
    "import json\n",
    "import random\n",
    "import boto3\n",
    "import uuid\n",
    "import time\n",
    "\n",
    "def get_data():\n",
    "    return {\n",
    "        'EVENT_TIME': datetime.datetime.now().isoformat(),\n",
    "        'TICKER': random.choice(['AAPL', 'AMZN', 'MSFT', 'INTC', 'TBV']),\n",
    "        'PRICE': round(random.random() * 100, 2)}\n",
    "\n",
    "def get_cloud_event():\n",
    "    return {\n",
    "        \"specversion\" : \"1.0\",\n",
    "        \"type\" : \"tick\",\n",
    "        \"source\" : \"sample-stream\",\n",
    "        \"subject\" : \"delayed-data\",\n",
    "        \"id\" : str(uuid.uuid4()),\n",
    "        \"time\" : datetime.datetime.now().isoformat(),\n",
    "        \"datacontenttype\" : \"application/json\",\n",
    "        \"data\" : get_data()\n",
    "    }\n",
    "\n",
    "\n",
    "def generate(stream_name, kinesis_client):\n",
    "    while True:\n",
    "        data = get_cloud_event()\n",
    "        print(data)\n",
    "        kinesis_client.put_record(\n",
    "            StreamName=stream_name,\n",
    "            Data=json.dumps(data),\n",
    "            PartitionKey=\"partitionkey\")\n",
    "        time.sleep(1)"
   ]
  },
  {
   "cell_type": "code",
   "execution_count": null,
   "id": "a4647af3",
   "metadata": {},
   "outputs": [],
   "source": [
    "# Run it\n",
    "generate(\"ExampleInputStream\", kinesis)"
   ]
  },
  {
   "cell_type": "markdown",
   "id": "1343d9c8",
   "metadata": {},
   "source": [
    "### Read From Output"
   ]
  },
  {
   "cell_type": "code",
   "execution_count": null,
   "id": "784195b9",
   "metadata": {},
   "outputs": [],
   "source": [
    "shards = kinesis.list_shards(\n",
    "    StreamName='ExampleOutputStream'\n",
    ")\n",
    "print(shards)"
   ]
  },
  {
   "cell_type": "code",
   "execution_count": null,
   "id": "0bddfa4b",
   "metadata": {},
   "outputs": [],
   "source": [
    "itor = kinesis.get_shard_iterator(\n",
    "    StreamName='ExampleOutputStream',\n",
    "    ShardIteratorType='TRIM_HORIZON',\n",
    "    ShardId=shards['Shards'][0]['ShardId']\n",
    ")\n",
    "print(itor)"
   ]
  },
  {
   "cell_type": "code",
   "execution_count": null,
   "id": "09f6b789",
   "metadata": {},
   "outputs": [],
   "source": [
    "kinesis.get_records(\n",
    "    ShardIterator=itor['ShardIterator']\n",
    ")"
   ]
  },
  {
   "cell_type": "markdown",
   "id": "c361e118",
   "metadata": {},
   "source": [
    "## Clean Up"
   ]
  },
  {
   "cell_type": "markdown",
   "id": "e6442dc0",
   "metadata": {},
   "source": [
    "#### Application"
   ]
  },
  {
   "cell_type": "code",
   "execution_count": null,
   "id": "974c128d",
   "metadata": {},
   "outputs": [],
   "source": [
    "kda2.stop_application(\n",
    "    ApplicationName='sample'\n",
    ")"
   ]
  },
  {
   "cell_type": "code",
   "execution_count": null,
   "id": "cefe686c",
   "metadata": {},
   "outputs": [],
   "source": [
    "da = kda2.describe_application(\n",
    "    ApplicationName='sample'\n",
    ")\n",
    "create_timestamp = da['ApplicationDetail']['CreateTimestamp']"
   ]
  },
  {
   "cell_type": "code",
   "execution_count": null,
   "id": "fe92d461",
   "metadata": {},
   "outputs": [],
   "source": [
    "from bson import json_util\n",
    "import json\n",
    "\n",
    "json.dumps(da, default=json_util.default)"
   ]
  },
  {
   "cell_type": "code",
   "execution_count": null,
   "id": "f008232e",
   "metadata": {},
   "outputs": [],
   "source": [
    "summaries = kda2.list_applications()['ApplicationSummaries']\n",
    "print(summaries)"
   ]
  },
  {
   "cell_type": "code",
   "execution_count": null,
   "id": "f255bb91",
   "metadata": {},
   "outputs": [],
   "source": [
    "kda2.delete_application(\n",
    "    ApplicationName='sample',\n",
    "    CreateTimestamp=create_timestamp\n",
    ")"
   ]
  },
  {
   "cell_type": "markdown",
   "id": "4b1861b0",
   "metadata": {},
   "source": [
    "#### IAM"
   ]
  },
  {
   "cell_type": "code",
   "execution_count": null,
   "id": "b5deb4cb",
   "metadata": {},
   "outputs": [],
   "source": [
    "policy_arn=\"arn:aws:iam::{}:policy/service-role/kda-sample-app\".format(account_no)\n",
    "print(policy_arn)"
   ]
  },
  {
   "cell_type": "code",
   "execution_count": null,
   "id": "95451034",
   "metadata": {},
   "outputs": [],
   "source": [
    "iam.detach_role_policy(\n",
    "    RoleName='kda-sample-role',\n",
    "    PolicyArn=policy_arn\n",
    ")"
   ]
  },
  {
   "cell_type": "code",
   "execution_count": null,
   "id": "2ea06116",
   "metadata": {},
   "outputs": [],
   "source": [
    "iam.delete_policy(\n",
    "    PolicyArn=policy_arn\n",
    ")"
   ]
  },
  {
   "cell_type": "code",
   "execution_count": null,
   "id": "f47af3be",
   "metadata": {},
   "outputs": [],
   "source": [
    "iam.delete_role(\n",
    "    RoleName='kda-sample-role'\n",
    ")"
   ]
  },
  {
   "cell_type": "markdown",
   "id": "3fe3aadb",
   "metadata": {},
   "source": [
    "#### Streams"
   ]
  },
  {
   "cell_type": "code",
   "execution_count": null,
   "id": "cc971aeb",
   "metadata": {},
   "outputs": [],
   "source": [
    "kinesis.delete_stream(\n",
    "    StreamName='ExampleInputStream'\n",
    ")"
   ]
  },
  {
   "cell_type": "code",
   "execution_count": null,
   "id": "42575b30",
   "metadata": {},
   "outputs": [],
   "source": [
    "kinesis.delete_stream(\n",
    "    StreamName='ExampleOutputStream'\n",
    ")"
   ]
  },
  {
   "cell_type": "code",
   "execution_count": null,
   "id": "a5ff19e6",
   "metadata": {},
   "outputs": [],
   "source": [
    "kinesis.list_streams()"
   ]
  },
  {
   "cell_type": "code",
   "execution_count": null,
   "id": "f03c708a",
   "metadata": {},
   "outputs": [],
   "source": []
  }
 ],
 "metadata": {
  "kernelspec": {
   "display_name": "Python 3",
   "language": "python",
   "name": "python3"
  },
  "language_info": {
   "codemirror_mode": {
    "name": "ipython",
    "version": 3
   },
   "file_extension": ".py",
   "mimetype": "text/x-python",
   "name": "python",
   "nbconvert_exporter": "python",
   "pygments_lexer": "ipython3",
   "version": "3.9.1"
  }
 },
 "nbformat": 4,
 "nbformat_minor": 5
}
