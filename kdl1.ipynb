{
 "cells": [
  {
   "cell_type": "markdown",
   "id": "23ad012b-4723-44e7-8aab-187c0fbfbefc",
   "metadata": {},
   "source": [
    "# KDL 1"
   ]
  },
  {
   "cell_type": "markdown",
   "id": "80f1e78c-4bd7-496f-9b8e-0e9adfc0eadd",
   "metadata": {},
   "source": [
    "Sample notebook for messing with Kinesis Data Analytics"
   ]
  },
  {
   "cell_type": "code",
   "execution_count": 1,
   "id": "57333839-aab9-4b86-bd32-2f6de51edbcd",
   "metadata": {},
   "outputs": [],
   "source": [
    "import boto3\n",
    "kdlClient = boto3.client('kinesisanalyticsv2')"
   ]
  },
  {
   "cell_type": "code",
   "execution_count": null,
   "id": "fed3eef8-3c98-42a2-beab-222fd08e982c",
   "metadata": {},
   "outputs": [],
   "source": []
  }
 ],
 "metadata": {
  "kernelspec": {
   "display_name": "Python 3",
   "language": "python",
   "name": "python3"
  },
  "language_info": {
   "codemirror_mode": {
    "name": "ipython",
    "version": 3
   },
   "file_extension": ".py",
   "mimetype": "text/x-python",
   "name": "python",
   "nbconvert_exporter": "python",
   "pygments_lexer": "ipython3",
   "version": "3.9.1"
  }
 },
 "nbformat": 4,
 "nbformat_minor": 5
}
